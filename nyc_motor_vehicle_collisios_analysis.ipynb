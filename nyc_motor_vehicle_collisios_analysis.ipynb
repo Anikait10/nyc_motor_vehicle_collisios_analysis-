{
 "cells": [
  {
   "cell_type": "markdown",
   "id": "2c2ca6f8-98f4-46ab-95f0-cab17341ba32",
   "metadata": {},
   "source": [
    "# NYC Motor Vehicle Collisions - Crashes "
   ]
  },
  {
   "cell_type": "code",
   "execution_count": 3,
   "id": "562a08f1-028e-4517-be51-92ab358b2446",
   "metadata": {
    "tags": []
   },
   "outputs": [],
   "source": [
    "import pandas as pd\n",
    "import numpy as np\n",
    "import seaborn as sns\n",
    "import os\n",
    "import matplotlib.pyplot as plt\n",
    "import phik\n",
    "from IPython.display import Markdown as md"
   ]
  },
  {
   "cell_type": "code",
   "execution_count": 4,
   "id": "91c18180-2154-4044-8b0e-5d3efa0a9460",
   "metadata": {
    "tags": []
   },
   "outputs": [
    {
     "data": {
      "text/html": [
       "<div>\n",
       "<style scoped>\n",
       "    .dataframe tbody tr th:only-of-type {\n",
       "        vertical-align: middle;\n",
       "    }\n",
       "\n",
       "    .dataframe tbody tr th {\n",
       "        vertical-align: top;\n",
       "    }\n",
       "\n",
       "    .dataframe thead th {\n",
       "        text-align: right;\n",
       "    }\n",
       "</style>\n",
       "<table border=\"1\" class=\"dataframe\">\n",
       "  <thead>\n",
       "    <tr style=\"text-align: right;\">\n",
       "      <th></th>\n",
       "      <th>CRASH DATE_CRASH TIME</th>\n",
       "      <th>BOROUGH</th>\n",
       "      <th>ZIP CODE</th>\n",
       "      <th>LATITUDE</th>\n",
       "      <th>LONGITUDE</th>\n",
       "      <th>LOCATION</th>\n",
       "      <th>ON STREET NAME</th>\n",
       "      <th>CROSS STREET NAME</th>\n",
       "      <th>OFF STREET NAME</th>\n",
       "      <th>NUMBER OF PERSONS INJURED</th>\n",
       "      <th>...</th>\n",
       "      <th>CONTRIBUTING FACTOR VEHICLE 2</th>\n",
       "      <th>CONTRIBUTING FACTOR VEHICLE 3</th>\n",
       "      <th>CONTRIBUTING FACTOR VEHICLE 4</th>\n",
       "      <th>CONTRIBUTING FACTOR VEHICLE 5</th>\n",
       "      <th>COLLISION_ID</th>\n",
       "      <th>VEHICLE TYPE CODE 1</th>\n",
       "      <th>VEHICLE TYPE CODE 2</th>\n",
       "      <th>VEHICLE TYPE CODE 3</th>\n",
       "      <th>VEHICLE TYPE CODE 4</th>\n",
       "      <th>VEHICLE TYPE CODE 5</th>\n",
       "    </tr>\n",
       "  </thead>\n",
       "  <tbody>\n",
       "    <tr>\n",
       "      <th>0</th>\n",
       "      <td>2021-09-11 02:39:00</td>\n",
       "      <td>NaN</td>\n",
       "      <td>NaN</td>\n",
       "      <td>NaN</td>\n",
       "      <td>NaN</td>\n",
       "      <td>NaN</td>\n",
       "      <td>WHITESTONE EXPRESSWAY</td>\n",
       "      <td>20 AVENUE</td>\n",
       "      <td>NaN</td>\n",
       "      <td>2.0</td>\n",
       "      <td>...</td>\n",
       "      <td>Unspecified</td>\n",
       "      <td>NaN</td>\n",
       "      <td>NaN</td>\n",
       "      <td>NaN</td>\n",
       "      <td>4455765</td>\n",
       "      <td>Sedan</td>\n",
       "      <td>Sedan</td>\n",
       "      <td>NaN</td>\n",
       "      <td>NaN</td>\n",
       "      <td>NaN</td>\n",
       "    </tr>\n",
       "    <tr>\n",
       "      <th>1</th>\n",
       "      <td>2022-03-26 11:45:00</td>\n",
       "      <td>NaN</td>\n",
       "      <td>NaN</td>\n",
       "      <td>NaN</td>\n",
       "      <td>NaN</td>\n",
       "      <td>NaN</td>\n",
       "      <td>QUEENSBORO BRIDGE UPPER</td>\n",
       "      <td>NaN</td>\n",
       "      <td>NaN</td>\n",
       "      <td>1.0</td>\n",
       "      <td>...</td>\n",
       "      <td>NaN</td>\n",
       "      <td>NaN</td>\n",
       "      <td>NaN</td>\n",
       "      <td>NaN</td>\n",
       "      <td>4513547</td>\n",
       "      <td>Sedan</td>\n",
       "      <td>NaN</td>\n",
       "      <td>NaN</td>\n",
       "      <td>NaN</td>\n",
       "      <td>NaN</td>\n",
       "    </tr>\n",
       "    <tr>\n",
       "      <th>2</th>\n",
       "      <td>2022-06-29 06:55:00</td>\n",
       "      <td>NaN</td>\n",
       "      <td>NaN</td>\n",
       "      <td>NaN</td>\n",
       "      <td>NaN</td>\n",
       "      <td>NaN</td>\n",
       "      <td>THROGS NECK BRIDGE</td>\n",
       "      <td>NaN</td>\n",
       "      <td>NaN</td>\n",
       "      <td>0.0</td>\n",
       "      <td>...</td>\n",
       "      <td>Unspecified</td>\n",
       "      <td>NaN</td>\n",
       "      <td>NaN</td>\n",
       "      <td>NaN</td>\n",
       "      <td>4541903</td>\n",
       "      <td>Sedan</td>\n",
       "      <td>Pick-up Truck</td>\n",
       "      <td>NaN</td>\n",
       "      <td>NaN</td>\n",
       "      <td>NaN</td>\n",
       "    </tr>\n",
       "    <tr>\n",
       "      <th>3</th>\n",
       "      <td>2021-09-11 09:35:00</td>\n",
       "      <td>BROOKLYN</td>\n",
       "      <td>11208.0</td>\n",
       "      <td>40.667202</td>\n",
       "      <td>-73.866500</td>\n",
       "      <td>(40.667202, -73.8665)</td>\n",
       "      <td>NaN</td>\n",
       "      <td>NaN</td>\n",
       "      <td>1211      LORING AVENUE</td>\n",
       "      <td>0.0</td>\n",
       "      <td>...</td>\n",
       "      <td>NaN</td>\n",
       "      <td>NaN</td>\n",
       "      <td>NaN</td>\n",
       "      <td>NaN</td>\n",
       "      <td>4456314</td>\n",
       "      <td>Sedan</td>\n",
       "      <td>NaN</td>\n",
       "      <td>NaN</td>\n",
       "      <td>NaN</td>\n",
       "      <td>NaN</td>\n",
       "    </tr>\n",
       "    <tr>\n",
       "      <th>4</th>\n",
       "      <td>2021-12-14 08:13:00</td>\n",
       "      <td>BROOKLYN</td>\n",
       "      <td>11233.0</td>\n",
       "      <td>40.683304</td>\n",
       "      <td>-73.917274</td>\n",
       "      <td>(40.683304, -73.917274)</td>\n",
       "      <td>SARATOGA AVENUE</td>\n",
       "      <td>DECATUR STREET</td>\n",
       "      <td>NaN</td>\n",
       "      <td>0.0</td>\n",
       "      <td>...</td>\n",
       "      <td>NaN</td>\n",
       "      <td>NaN</td>\n",
       "      <td>NaN</td>\n",
       "      <td>NaN</td>\n",
       "      <td>4486609</td>\n",
       "      <td>NaN</td>\n",
       "      <td>NaN</td>\n",
       "      <td>NaN</td>\n",
       "      <td>NaN</td>\n",
       "      <td>NaN</td>\n",
       "    </tr>\n",
       "    <tr>\n",
       "      <th>...</th>\n",
       "      <td>...</td>\n",
       "      <td>...</td>\n",
       "      <td>...</td>\n",
       "      <td>...</td>\n",
       "      <td>...</td>\n",
       "      <td>...</td>\n",
       "      <td>...</td>\n",
       "      <td>...</td>\n",
       "      <td>...</td>\n",
       "      <td>...</td>\n",
       "      <td>...</td>\n",
       "      <td>...</td>\n",
       "      <td>...</td>\n",
       "      <td>...</td>\n",
       "      <td>...</td>\n",
       "      <td>...</td>\n",
       "      <td>...</td>\n",
       "      <td>...</td>\n",
       "      <td>...</td>\n",
       "      <td>...</td>\n",
       "      <td>...</td>\n",
       "    </tr>\n",
       "    <tr>\n",
       "      <th>2018240</th>\n",
       "      <td>2023-07-03 18:05:00</td>\n",
       "      <td>NaN</td>\n",
       "      <td>NaN</td>\n",
       "      <td>40.866806</td>\n",
       "      <td>-73.931010</td>\n",
       "      <td>(40.866806, -73.93101)</td>\n",
       "      <td>RIVERSIDE DRIVE</td>\n",
       "      <td>NaN</td>\n",
       "      <td>NaN</td>\n",
       "      <td>0.0</td>\n",
       "      <td>...</td>\n",
       "      <td>Unspecified</td>\n",
       "      <td>NaN</td>\n",
       "      <td>NaN</td>\n",
       "      <td>NaN</td>\n",
       "      <td>4648110</td>\n",
       "      <td>Sedan</td>\n",
       "      <td>Sedan</td>\n",
       "      <td>NaN</td>\n",
       "      <td>NaN</td>\n",
       "      <td>NaN</td>\n",
       "    </tr>\n",
       "    <tr>\n",
       "      <th>2018241</th>\n",
       "      <td>2023-07-22 21:39:00</td>\n",
       "      <td>BRONX</td>\n",
       "      <td>10457.0</td>\n",
       "      <td>40.844177</td>\n",
       "      <td>-73.902920</td>\n",
       "      <td>(40.844177, -73.90292)</td>\n",
       "      <td>EAST 174 STREET</td>\n",
       "      <td>WEBSTER AVENUE</td>\n",
       "      <td>NaN</td>\n",
       "      <td>1.0</td>\n",
       "      <td>...</td>\n",
       "      <td>NaN</td>\n",
       "      <td>NaN</td>\n",
       "      <td>NaN</td>\n",
       "      <td>NaN</td>\n",
       "      <td>4648117</td>\n",
       "      <td>Sedan</td>\n",
       "      <td>NaN</td>\n",
       "      <td>NaN</td>\n",
       "      <td>NaN</td>\n",
       "      <td>NaN</td>\n",
       "    </tr>\n",
       "    <tr>\n",
       "      <th>2018242</th>\n",
       "      <td>2023-07-02 17:55:00</td>\n",
       "      <td>MANHATTAN</td>\n",
       "      <td>10006.0</td>\n",
       "      <td>40.711033</td>\n",
       "      <td>-74.014540</td>\n",
       "      <td>(40.711033, -74.01454)</td>\n",
       "      <td>WEST STREET</td>\n",
       "      <td>LIBERTY STREET</td>\n",
       "      <td>NaN</td>\n",
       "      <td>0.0</td>\n",
       "      <td>...</td>\n",
       "      <td>NaN</td>\n",
       "      <td>NaN</td>\n",
       "      <td>NaN</td>\n",
       "      <td>NaN</td>\n",
       "      <td>4648366</td>\n",
       "      <td>Taxi</td>\n",
       "      <td>NaN</td>\n",
       "      <td>NaN</td>\n",
       "      <td>NaN</td>\n",
       "      <td>NaN</td>\n",
       "    </tr>\n",
       "    <tr>\n",
       "      <th>2018243</th>\n",
       "      <td>2023-07-22 13:15:00</td>\n",
       "      <td>QUEENS</td>\n",
       "      <td>11433.0</td>\n",
       "      <td>40.691580</td>\n",
       "      <td>-73.793190</td>\n",
       "      <td>(40.69158, -73.79319)</td>\n",
       "      <td>110 AVENUE</td>\n",
       "      <td>157 STREET</td>\n",
       "      <td>NaN</td>\n",
       "      <td>1.0</td>\n",
       "      <td>...</td>\n",
       "      <td>Driver Inattention/Distraction</td>\n",
       "      <td>NaN</td>\n",
       "      <td>NaN</td>\n",
       "      <td>NaN</td>\n",
       "      <td>4648129</td>\n",
       "      <td>Station Wagon/Sport Utility Vehicle</td>\n",
       "      <td>E-Bike</td>\n",
       "      <td>NaN</td>\n",
       "      <td>NaN</td>\n",
       "      <td>NaN</td>\n",
       "    </tr>\n",
       "    <tr>\n",
       "      <th>2018244</th>\n",
       "      <td>2023-07-22 03:00:00</td>\n",
       "      <td>QUEENS</td>\n",
       "      <td>11433.0</td>\n",
       "      <td>40.700240</td>\n",
       "      <td>-73.792854</td>\n",
       "      <td>(40.70024, -73.792854)</td>\n",
       "      <td>SOUTH ROAD</td>\n",
       "      <td>164 STREET</td>\n",
       "      <td>NaN</td>\n",
       "      <td>0.0</td>\n",
       "      <td>...</td>\n",
       "      <td>NaN</td>\n",
       "      <td>NaN</td>\n",
       "      <td>NaN</td>\n",
       "      <td>NaN</td>\n",
       "      <td>4647913</td>\n",
       "      <td>Sedan</td>\n",
       "      <td>NaN</td>\n",
       "      <td>NaN</td>\n",
       "      <td>NaN</td>\n",
       "      <td>NaN</td>\n",
       "    </tr>\n",
       "  </tbody>\n",
       "</table>\n",
       "<p>2018245 rows × 28 columns</p>\n",
       "</div>"
      ],
      "text/plain": [
       "        CRASH DATE_CRASH TIME    BOROUGH ZIP CODE   LATITUDE  LONGITUDE  \\\n",
       "0         2021-09-11 02:39:00        NaN      NaN        NaN        NaN   \n",
       "1         2022-03-26 11:45:00        NaN      NaN        NaN        NaN   \n",
       "2         2022-06-29 06:55:00        NaN      NaN        NaN        NaN   \n",
       "3         2021-09-11 09:35:00   BROOKLYN  11208.0  40.667202 -73.866500   \n",
       "4         2021-12-14 08:13:00   BROOKLYN  11233.0  40.683304 -73.917274   \n",
       "...                       ...        ...      ...        ...        ...   \n",
       "2018240   2023-07-03 18:05:00        NaN      NaN  40.866806 -73.931010   \n",
       "2018241   2023-07-22 21:39:00      BRONX  10457.0  40.844177 -73.902920   \n",
       "2018242   2023-07-02 17:55:00  MANHATTAN  10006.0  40.711033 -74.014540   \n",
       "2018243   2023-07-22 13:15:00     QUEENS  11433.0  40.691580 -73.793190   \n",
       "2018244   2023-07-22 03:00:00     QUEENS  11433.0  40.700240 -73.792854   \n",
       "\n",
       "                        LOCATION           ON STREET NAME CROSS STREET NAME  \\\n",
       "0                            NaN    WHITESTONE EXPRESSWAY         20 AVENUE   \n",
       "1                            NaN  QUEENSBORO BRIDGE UPPER               NaN   \n",
       "2                            NaN       THROGS NECK BRIDGE               NaN   \n",
       "3          (40.667202, -73.8665)                      NaN               NaN   \n",
       "4        (40.683304, -73.917274)          SARATOGA AVENUE    DECATUR STREET   \n",
       "...                          ...                      ...               ...   \n",
       "2018240   (40.866806, -73.93101)          RIVERSIDE DRIVE               NaN   \n",
       "2018241   (40.844177, -73.90292)          EAST 174 STREET    WEBSTER AVENUE   \n",
       "2018242   (40.711033, -74.01454)              WEST STREET    LIBERTY STREET   \n",
       "2018243    (40.69158, -73.79319)               110 AVENUE        157 STREET   \n",
       "2018244   (40.70024, -73.792854)               SOUTH ROAD        164 STREET   \n",
       "\n",
       "                 OFF STREET NAME  NUMBER OF PERSONS INJURED  ...  \\\n",
       "0                            NaN                        2.0  ...   \n",
       "1                            NaN                        1.0  ...   \n",
       "2                            NaN                        0.0  ...   \n",
       "3        1211      LORING AVENUE                        0.0  ...   \n",
       "4                            NaN                        0.0  ...   \n",
       "...                          ...                        ...  ...   \n",
       "2018240                      NaN                        0.0  ...   \n",
       "2018241                      NaN                        1.0  ...   \n",
       "2018242                      NaN                        0.0  ...   \n",
       "2018243                      NaN                        1.0  ...   \n",
       "2018244                      NaN                        0.0  ...   \n",
       "\n",
       "          CONTRIBUTING FACTOR VEHICLE 2  CONTRIBUTING FACTOR VEHICLE 3  \\\n",
       "0                           Unspecified                            NaN   \n",
       "1                                   NaN                            NaN   \n",
       "2                           Unspecified                            NaN   \n",
       "3                                   NaN                            NaN   \n",
       "4                                   NaN                            NaN   \n",
       "...                                 ...                            ...   \n",
       "2018240                     Unspecified                            NaN   \n",
       "2018241                             NaN                            NaN   \n",
       "2018242                             NaN                            NaN   \n",
       "2018243  Driver Inattention/Distraction                            NaN   \n",
       "2018244                             NaN                            NaN   \n",
       "\n",
       "         CONTRIBUTING FACTOR VEHICLE 4  CONTRIBUTING FACTOR VEHICLE 5  \\\n",
       "0                                  NaN                            NaN   \n",
       "1                                  NaN                            NaN   \n",
       "2                                  NaN                            NaN   \n",
       "3                                  NaN                            NaN   \n",
       "4                                  NaN                            NaN   \n",
       "...                                ...                            ...   \n",
       "2018240                            NaN                            NaN   \n",
       "2018241                            NaN                            NaN   \n",
       "2018242                            NaN                            NaN   \n",
       "2018243                            NaN                            NaN   \n",
       "2018244                            NaN                            NaN   \n",
       "\n",
       "         COLLISION_ID                  VEHICLE TYPE CODE 1  \\\n",
       "0             4455765                                Sedan   \n",
       "1             4513547                                Sedan   \n",
       "2             4541903                                Sedan   \n",
       "3             4456314                                Sedan   \n",
       "4             4486609                                  NaN   \n",
       "...               ...                                  ...   \n",
       "2018240       4648110                                Sedan   \n",
       "2018241       4648117                                Sedan   \n",
       "2018242       4648366                                 Taxi   \n",
       "2018243       4648129  Station Wagon/Sport Utility Vehicle   \n",
       "2018244       4647913                                Sedan   \n",
       "\n",
       "         VEHICLE TYPE CODE 2 VEHICLE TYPE CODE 3 VEHICLE TYPE CODE 4  \\\n",
       "0                      Sedan                 NaN                 NaN   \n",
       "1                        NaN                 NaN                 NaN   \n",
       "2              Pick-up Truck                 NaN                 NaN   \n",
       "3                        NaN                 NaN                 NaN   \n",
       "4                        NaN                 NaN                 NaN   \n",
       "...                      ...                 ...                 ...   \n",
       "2018240                Sedan                 NaN                 NaN   \n",
       "2018241                  NaN                 NaN                 NaN   \n",
       "2018242                  NaN                 NaN                 NaN   \n",
       "2018243               E-Bike                 NaN                 NaN   \n",
       "2018244                  NaN                 NaN                 NaN   \n",
       "\n",
       "        VEHICLE TYPE CODE 5  \n",
       "0                       NaN  \n",
       "1                       NaN  \n",
       "2                       NaN  \n",
       "3                       NaN  \n",
       "4                       NaN  \n",
       "...                     ...  \n",
       "2018240                 NaN  \n",
       "2018241                 NaN  \n",
       "2018242                 NaN  \n",
       "2018243                 NaN  \n",
       "2018244                 NaN  \n",
       "\n",
       "[2018245 rows x 28 columns]"
      ]
     },
     "execution_count": 4,
     "metadata": {},
     "output_type": "execute_result"
    }
   ],
   "source": [
    "df = pd.read_pickle(\"shared/Motor_Vehicle_Collisions_-_Crashes.pkl\")\n",
    "df\n"
   ]
  },
  {
   "cell_type": "markdown",
   "id": "39a9bd6d-fe3f-4590-89be-d3af483393c5",
   "metadata": {},
   "source": [
    "## Exploratory Data Analysis"
   ]
  },
  {
   "cell_type": "code",
   "execution_count": 5,
   "id": "a4ed1d19-0016-4de9-b4bf-c99663213bab",
   "metadata": {
    "tags": []
   },
   "outputs": [
    {
     "name": "stdout",
     "output_type": "stream",
     "text": [
      "<class 'pandas.core.frame.DataFrame'>\n",
      "RangeIndex: 2018245 entries, 0 to 2018244\n",
      "Data columns (total 28 columns):\n",
      " #   Column                         Dtype         \n",
      "---  ------                         -----         \n",
      " 0   CRASH DATE_CRASH TIME          datetime64[ns]\n",
      " 1   BOROUGH                        object        \n",
      " 2   ZIP CODE                       object        \n",
      " 3   LATITUDE                       float64       \n",
      " 4   LONGITUDE                      float64       \n",
      " 5   LOCATION                       object        \n",
      " 6   ON STREET NAME                 object        \n",
      " 7   CROSS STREET NAME              object        \n",
      " 8   OFF STREET NAME                object        \n",
      " 9   NUMBER OF PERSONS INJURED      float64       \n",
      " 10  NUMBER OF PERSONS KILLED       float64       \n",
      " 11  NUMBER OF PEDESTRIANS INJURED  int64         \n",
      " 12  NUMBER OF PEDESTRIANS KILLED   int64         \n",
      " 13  NUMBER OF CYCLIST INJURED      int64         \n",
      " 14  NUMBER OF CYCLIST KILLED       int64         \n",
      " 15  NUMBER OF MOTORIST INJURED     int64         \n",
      " 16  NUMBER OF MOTORIST KILLED      int64         \n",
      " 17  CONTRIBUTING FACTOR VEHICLE 1  object        \n",
      " 18  CONTRIBUTING FACTOR VEHICLE 2  object        \n",
      " 19  CONTRIBUTING FACTOR VEHICLE 3  object        \n",
      " 20  CONTRIBUTING FACTOR VEHICLE 4  object        \n",
      " 21  CONTRIBUTING FACTOR VEHICLE 5  object        \n",
      " 22  COLLISION_ID                   int64         \n",
      " 23  VEHICLE TYPE CODE 1            object        \n",
      " 24  VEHICLE TYPE CODE 2            object        \n",
      " 25  VEHICLE TYPE CODE 3            object        \n",
      " 26  VEHICLE TYPE CODE 4            object        \n",
      " 27  VEHICLE TYPE CODE 5            object        \n",
      "dtypes: datetime64[ns](1), float64(4), int64(7), object(16)\n",
      "memory usage: 431.1+ MB\n"
     ]
    }
   ],
   "source": [
    "df.info()\n"
   ]
  },
  {
   "cell_type": "code",
   "execution_count": 6,
   "id": "b7cc060a-634c-45c5-be96-ac51bf5e5789",
   "metadata": {
    "tags": []
   },
   "outputs": [
    {
     "data": {
      "text/html": [
       "<div>\n",
       "<style scoped>\n",
       "    .dataframe tbody tr th:only-of-type {\n",
       "        vertical-align: middle;\n",
       "    }\n",
       "\n",
       "    .dataframe tbody tr th {\n",
       "        vertical-align: top;\n",
       "    }\n",
       "\n",
       "    .dataframe thead th {\n",
       "        text-align: right;\n",
       "    }\n",
       "</style>\n",
       "<table border=\"1\" class=\"dataframe\">\n",
       "  <thead>\n",
       "    <tr style=\"text-align: right;\">\n",
       "      <th></th>\n",
       "      <th>CRASH DATE_CRASH TIME</th>\n",
       "      <th>LATITUDE</th>\n",
       "      <th>LONGITUDE</th>\n",
       "      <th>NUMBER OF PERSONS INJURED</th>\n",
       "      <th>NUMBER OF PERSONS KILLED</th>\n",
       "      <th>NUMBER OF PEDESTRIANS INJURED</th>\n",
       "      <th>NUMBER OF PEDESTRIANS KILLED</th>\n",
       "      <th>NUMBER OF CYCLIST INJURED</th>\n",
       "      <th>NUMBER OF CYCLIST KILLED</th>\n",
       "      <th>NUMBER OF MOTORIST INJURED</th>\n",
       "      <th>NUMBER OF MOTORIST KILLED</th>\n",
       "      <th>COLLISION_ID</th>\n",
       "    </tr>\n",
       "  </thead>\n",
       "  <tbody>\n",
       "    <tr>\n",
       "      <th>count</th>\n",
       "      <td>2018245</td>\n",
       "      <td>1.788560e+06</td>\n",
       "      <td>1.788560e+06</td>\n",
       "      <td>2.018227e+06</td>\n",
       "      <td>2.018214e+06</td>\n",
       "      <td>2.018245e+06</td>\n",
       "      <td>2.018245e+06</td>\n",
       "      <td>2.018245e+06</td>\n",
       "      <td>2.018245e+06</td>\n",
       "      <td>2.018245e+06</td>\n",
       "      <td>2.018245e+06</td>\n",
       "      <td>2.018245e+06</td>\n",
       "    </tr>\n",
       "    <tr>\n",
       "      <th>mean</th>\n",
       "      <td>2017-05-14 17:39:03.899198976</td>\n",
       "      <td>4.062776e+01</td>\n",
       "      <td>-7.375228e+01</td>\n",
       "      <td>3.024249e-01</td>\n",
       "      <td>1.446328e-03</td>\n",
       "      <td>5.518507e-02</td>\n",
       "      <td>7.253827e-04</td>\n",
       "      <td>2.612468e-02</td>\n",
       "      <td>1.119785e-04</td>\n",
       "      <td>2.179889e-01</td>\n",
       "      <td>5.896212e-04</td>\n",
       "      <td>3.116455e+06</td>\n",
       "    </tr>\n",
       "    <tr>\n",
       "      <th>min</th>\n",
       "      <td>2012-07-01 00:05:00</td>\n",
       "      <td>0.000000e+00</td>\n",
       "      <td>-2.013600e+02</td>\n",
       "      <td>0.000000e+00</td>\n",
       "      <td>0.000000e+00</td>\n",
       "      <td>0.000000e+00</td>\n",
       "      <td>0.000000e+00</td>\n",
       "      <td>0.000000e+00</td>\n",
       "      <td>0.000000e+00</td>\n",
       "      <td>0.000000e+00</td>\n",
       "      <td>0.000000e+00</td>\n",
       "      <td>2.200000e+01</td>\n",
       "    </tr>\n",
       "    <tr>\n",
       "      <th>25%</th>\n",
       "      <td>2014-12-19 18:00:00</td>\n",
       "      <td>4.066792e+01</td>\n",
       "      <td>-7.397493e+01</td>\n",
       "      <td>0.000000e+00</td>\n",
       "      <td>0.000000e+00</td>\n",
       "      <td>0.000000e+00</td>\n",
       "      <td>0.000000e+00</td>\n",
       "      <td>0.000000e+00</td>\n",
       "      <td>0.000000e+00</td>\n",
       "      <td>0.000000e+00</td>\n",
       "      <td>0.000000e+00</td>\n",
       "      <td>3.140681e+06</td>\n",
       "    </tr>\n",
       "    <tr>\n",
       "      <th>50%</th>\n",
       "      <td>2017-03-29 21:15:00</td>\n",
       "      <td>4.072102e+01</td>\n",
       "      <td>-7.392732e+01</td>\n",
       "      <td>0.000000e+00</td>\n",
       "      <td>0.000000e+00</td>\n",
       "      <td>0.000000e+00</td>\n",
       "      <td>0.000000e+00</td>\n",
       "      <td>0.000000e+00</td>\n",
       "      <td>0.000000e+00</td>\n",
       "      <td>0.000000e+00</td>\n",
       "      <td>0.000000e+00</td>\n",
       "      <td>3.645346e+06</td>\n",
       "    </tr>\n",
       "    <tr>\n",
       "      <th>75%</th>\n",
       "      <td>2019-06-10 18:30:00</td>\n",
       "      <td>4.076956e+01</td>\n",
       "      <td>-7.386665e+01</td>\n",
       "      <td>0.000000e+00</td>\n",
       "      <td>0.000000e+00</td>\n",
       "      <td>0.000000e+00</td>\n",
       "      <td>0.000000e+00</td>\n",
       "      <td>0.000000e+00</td>\n",
       "      <td>0.000000e+00</td>\n",
       "      <td>0.000000e+00</td>\n",
       "      <td>0.000000e+00</td>\n",
       "      <td>4.150156e+06</td>\n",
       "    </tr>\n",
       "    <tr>\n",
       "      <th>max</th>\n",
       "      <td>2023-08-15 23:59:00</td>\n",
       "      <td>4.334444e+01</td>\n",
       "      <td>0.000000e+00</td>\n",
       "      <td>4.300000e+01</td>\n",
       "      <td>8.000000e+00</td>\n",
       "      <td>2.700000e+01</td>\n",
       "      <td>6.000000e+00</td>\n",
       "      <td>4.000000e+00</td>\n",
       "      <td>2.000000e+00</td>\n",
       "      <td>4.300000e+01</td>\n",
       "      <td>5.000000e+00</td>\n",
       "      <td>4.655026e+06</td>\n",
       "    </tr>\n",
       "    <tr>\n",
       "      <th>std</th>\n",
       "      <td>NaN</td>\n",
       "      <td>1.980901e+00</td>\n",
       "      <td>3.727568e+00</td>\n",
       "      <td>6.937633e-01</td>\n",
       "      <td>4.007201e-02</td>\n",
       "      <td>2.412867e-01</td>\n",
       "      <td>2.741556e-02</td>\n",
       "      <td>1.614267e-01</td>\n",
       "      <td>1.062812e-02</td>\n",
       "      <td>6.549700e-01</td>\n",
       "      <td>2.648117e-02</td>\n",
       "      <td>1.503997e+06</td>\n",
       "    </tr>\n",
       "  </tbody>\n",
       "</table>\n",
       "</div>"
      ],
      "text/plain": [
       "               CRASH DATE_CRASH TIME      LATITUDE     LONGITUDE  \\\n",
       "count                        2018245  1.788560e+06  1.788560e+06   \n",
       "mean   2017-05-14 17:39:03.899198976  4.062776e+01 -7.375228e+01   \n",
       "min              2012-07-01 00:05:00  0.000000e+00 -2.013600e+02   \n",
       "25%              2014-12-19 18:00:00  4.066792e+01 -7.397493e+01   \n",
       "50%              2017-03-29 21:15:00  4.072102e+01 -7.392732e+01   \n",
       "75%              2019-06-10 18:30:00  4.076956e+01 -7.386665e+01   \n",
       "max              2023-08-15 23:59:00  4.334444e+01  0.000000e+00   \n",
       "std                              NaN  1.980901e+00  3.727568e+00   \n",
       "\n",
       "       NUMBER OF PERSONS INJURED  NUMBER OF PERSONS KILLED  \\\n",
       "count               2.018227e+06              2.018214e+06   \n",
       "mean                3.024249e-01              1.446328e-03   \n",
       "min                 0.000000e+00              0.000000e+00   \n",
       "25%                 0.000000e+00              0.000000e+00   \n",
       "50%                 0.000000e+00              0.000000e+00   \n",
       "75%                 0.000000e+00              0.000000e+00   \n",
       "max                 4.300000e+01              8.000000e+00   \n",
       "std                 6.937633e-01              4.007201e-02   \n",
       "\n",
       "       NUMBER OF PEDESTRIANS INJURED  NUMBER OF PEDESTRIANS KILLED  \\\n",
       "count                   2.018245e+06                  2.018245e+06   \n",
       "mean                    5.518507e-02                  7.253827e-04   \n",
       "min                     0.000000e+00                  0.000000e+00   \n",
       "25%                     0.000000e+00                  0.000000e+00   \n",
       "50%                     0.000000e+00                  0.000000e+00   \n",
       "75%                     0.000000e+00                  0.000000e+00   \n",
       "max                     2.700000e+01                  6.000000e+00   \n",
       "std                     2.412867e-01                  2.741556e-02   \n",
       "\n",
       "       NUMBER OF CYCLIST INJURED  NUMBER OF CYCLIST KILLED  \\\n",
       "count               2.018245e+06              2.018245e+06   \n",
       "mean                2.612468e-02              1.119785e-04   \n",
       "min                 0.000000e+00              0.000000e+00   \n",
       "25%                 0.000000e+00              0.000000e+00   \n",
       "50%                 0.000000e+00              0.000000e+00   \n",
       "75%                 0.000000e+00              0.000000e+00   \n",
       "max                 4.000000e+00              2.000000e+00   \n",
       "std                 1.614267e-01              1.062812e-02   \n",
       "\n",
       "       NUMBER OF MOTORIST INJURED  NUMBER OF MOTORIST KILLED  COLLISION_ID  \n",
       "count                2.018245e+06               2.018245e+06  2.018245e+06  \n",
       "mean                 2.179889e-01               5.896212e-04  3.116455e+06  \n",
       "min                  0.000000e+00               0.000000e+00  2.200000e+01  \n",
       "25%                  0.000000e+00               0.000000e+00  3.140681e+06  \n",
       "50%                  0.000000e+00               0.000000e+00  3.645346e+06  \n",
       "75%                  0.000000e+00               0.000000e+00  4.150156e+06  \n",
       "max                  4.300000e+01               5.000000e+00  4.655026e+06  \n",
       "std                  6.549700e-01               2.648117e-02  1.503997e+06  "
      ]
     },
     "execution_count": 6,
     "metadata": {},
     "output_type": "execute_result"
    }
   ],
   "source": [
    "df.describe()\n"
   ]
  },
  {
   "cell_type": "code",
   "execution_count": 7,
   "id": "ecd03c75-26df-4504-9972-8447b9ca2cab",
   "metadata": {
    "tags": []
   },
   "outputs": [
    {
     "data": {
      "text/plain": [
       "Index(['CRASH DATE_CRASH TIME', 'BOROUGH', 'ZIP CODE', 'LATITUDE', 'LONGITUDE',\n",
       "       'LOCATION', 'ON STREET NAME', 'CROSS STREET NAME', 'OFF STREET NAME',\n",
       "       'NUMBER OF PERSONS INJURED', 'NUMBER OF PERSONS KILLED',\n",
       "       'NUMBER OF PEDESTRIANS INJURED', 'NUMBER OF PEDESTRIANS KILLED',\n",
       "       'NUMBER OF CYCLIST INJURED', 'NUMBER OF CYCLIST KILLED',\n",
       "       'NUMBER OF MOTORIST INJURED', 'NUMBER OF MOTORIST KILLED',\n",
       "       'CONTRIBUTING FACTOR VEHICLE 1', 'CONTRIBUTING FACTOR VEHICLE 2',\n",
       "       'CONTRIBUTING FACTOR VEHICLE 3', 'CONTRIBUTING FACTOR VEHICLE 4',\n",
       "       'CONTRIBUTING FACTOR VEHICLE 5', 'COLLISION_ID', 'VEHICLE TYPE CODE 1',\n",
       "       'VEHICLE TYPE CODE 2', 'VEHICLE TYPE CODE 3', 'VEHICLE TYPE CODE 4',\n",
       "       'VEHICLE TYPE CODE 5'],\n",
       "      dtype='object')"
      ]
     },
     "execution_count": 7,
     "metadata": {},
     "output_type": "execute_result"
    }
   ],
   "source": [
    "df.columns"
   ]
  },
  {
   "cell_type": "markdown",
   "id": "5e1a6aa7-c87d-4e6d-9e32-c082b0558b66",
   "metadata": {},
   "source": [
    "## Borough with maximum crashes reported in since $ 2012 $"
   ]
  },
  {
   "cell_type": "code",
   "execution_count": 8,
   "id": "4391f4b2-4265-4e42-8333-af3a888c843a",
   "metadata": {
    "tags": []
   },
   "outputs": [
    {
     "data": {
      "text/plain": [
       "CRASH DATE_CRASH TIME\n",
       "2015-01-18 08:00:00    51\n",
       "2015-01-18 08:30:00    37\n",
       "2018-11-15 16:00:00    36\n",
       "2014-01-21 11:00:00    34\n",
       "2014-01-21 10:00:00    32\n",
       "                       ..\n",
       "2018-01-30 12:51:00     1\n",
       "2018-02-06 19:15:00     1\n",
       "2018-01-29 16:57:00     1\n",
       "2018-02-08 00:20:00     1\n",
       "2023-07-22 13:15:00     1\n",
       "Name: count, Length: 1096801, dtype: int64"
      ]
     },
     "execution_count": 8,
     "metadata": {},
     "output_type": "execute_result"
    }
   ],
   "source": [
    "df['CRASH DATE_CRASH TIME'].value_counts()"
   ]
  },
  {
   "cell_type": "code",
   "execution_count": 11,
   "id": "f402d62d-200c-46fb-935b-25d6a8e369b9",
   "metadata": {
    "tags": []
   },
   "outputs": [],
   "source": [
    "df['CRASH DATE_CRASH TIME'] = pd.to_datetime(df['CRASH DATE_CRASH TIME'])\n",
    "df = df[df['CRASH DATE_CRASH TIME'].dt.year >= 2012]\n"
   ]
  },
  {
   "cell_type": "code",
   "execution_count": 13,
   "id": "0616ff18-0562-4443-89a0-e67917d7e245",
   "metadata": {
    "tags": []
   },
   "outputs": [
    {
     "data": {
      "text/plain": [
       "BOROUGH\n",
       "BROOKLYN         441026\n",
       "QUEENS           372457\n",
       "MANHATTAN        313266\n",
       "BRONX            205345\n",
       "STATEN ISLAND     58297\n",
       "Name: count, dtype: int64"
      ]
     },
     "execution_count": 13,
     "metadata": {},
     "output_type": "execute_result"
    }
   ],
   "source": [
    "borough_crash_counts = df['BOROUGH'].value_counts()\n",
    "borough_crash_counts"
   ]
  },
  {
   "cell_type": "code",
   "execution_count": 15,
   "id": "7ef91e7b-01d7-4e2e-817a-303e8d0d604f",
   "metadata": {
    "tags": []
   },
   "outputs": [
    {
     "data": {
      "text/plain": [
       "441026"
      ]
     },
     "execution_count": 15,
     "metadata": {},
     "output_type": "execute_result"
    }
   ],
   "source": [
    "highest_crash_borough = borough_crash_counts.idxmax()\n",
    "highest_crash_count = borough_crash_counts.max()\n",
    "highest_crash_count"
   ]
  },
  {
   "cell_type": "markdown",
   "id": "af1bcafb-b571-4e11-8de3-d08600ac4539",
   "metadata": {},
   "source": [
    "## Borough with the maximum number of crashes adjusted for population"
   ]
  },
  {
   "cell_type": "code",
   "execution_count": 22,
   "id": "5f5a8e1f-b3dc-4f15-8f0b-897d8ae886c5",
   "metadata": {
    "tags": []
   },
   "outputs": [
    {
     "data": {
      "text/html": [
       "<div>\n",
       "<style scoped>\n",
       "    .dataframe tbody tr th:only-of-type {\n",
       "        vertical-align: middle;\n",
       "    }\n",
       "\n",
       "    .dataframe tbody tr th {\n",
       "        vertical-align: top;\n",
       "    }\n",
       "\n",
       "    .dataframe thead th {\n",
       "        text-align: right;\n",
       "    }\n",
       "</style>\n",
       "<table border=\"1\" class=\"dataframe\">\n",
       "  <thead>\n",
       "    <tr style=\"text-align: right;\">\n",
       "      <th></th>\n",
       "      <th>borough</th>\n",
       "      <th>crash_count</th>\n",
       "      <th>pop</th>\n",
       "    </tr>\n",
       "  </thead>\n",
       "  <tbody>\n",
       "    <tr>\n",
       "      <th>0</th>\n",
       "      <td>brooklyn</td>\n",
       "      <td>441026</td>\n",
       "      <td>2648452</td>\n",
       "    </tr>\n",
       "    <tr>\n",
       "      <th>1</th>\n",
       "      <td>queens</td>\n",
       "      <td>372457</td>\n",
       "      <td>2330295</td>\n",
       "    </tr>\n",
       "    <tr>\n",
       "      <th>2</th>\n",
       "      <td>manhattan</td>\n",
       "      <td>313266</td>\n",
       "      <td>1638281</td>\n",
       "    </tr>\n",
       "    <tr>\n",
       "      <th>3</th>\n",
       "      <td>bronx</td>\n",
       "      <td>205345</td>\n",
       "      <td>1446788</td>\n",
       "    </tr>\n",
       "    <tr>\n",
       "      <th>4</th>\n",
       "      <td>staten island</td>\n",
       "      <td>58297</td>\n",
       "      <td>487155</td>\n",
       "    </tr>\n",
       "  </tbody>\n",
       "</table>\n",
       "</div>"
      ],
      "text/plain": [
       "         borough  crash_count      pop\n",
       "0       brooklyn       441026  2648452\n",
       "1         queens       372457  2330295\n",
       "2      manhattan       313266  1638281\n",
       "3          bronx       205345  1446788\n",
       "4  staten island        58297   487155"
      ]
     },
     "execution_count": 22,
     "metadata": {},
     "output_type": "execute_result"
    }
   ],
   "source": [
    "data = {'borough': ['brooklyn', 'queens', 'manhattan', 'bronx', 'staten island'],\n",
    "        'crash_count': [441026, 372457, 313266,205345, 58297],\n",
    "        'pop': [2648452, 2330295, 1638281, 1446788, 487155]}\n",
    "\n",
    "mydf = pd.DataFrame(data)\n",
    "mydf"
   ]
  },
  {
   "cell_type": "code",
   "execution_count": 24,
   "id": "af15c2ee-6638-434e-834f-0022bbc5f6df",
   "metadata": {
    "tags": []
   },
   "outputs": [
    {
     "data": {
      "text/html": [
       "<div>\n",
       "<style scoped>\n",
       "    .dataframe tbody tr th:only-of-type {\n",
       "        vertical-align: middle;\n",
       "    }\n",
       "\n",
       "    .dataframe tbody tr th {\n",
       "        vertical-align: top;\n",
       "    }\n",
       "\n",
       "    .dataframe thead th {\n",
       "        text-align: right;\n",
       "    }\n",
       "</style>\n",
       "<table border=\"1\" class=\"dataframe\">\n",
       "  <thead>\n",
       "    <tr style=\"text-align: right;\">\n",
       "      <th></th>\n",
       "      <th>borough</th>\n",
       "      <th>crash_count</th>\n",
       "      <th>pop</th>\n",
       "      <th>maxcrash_population</th>\n",
       "    </tr>\n",
       "  </thead>\n",
       "  <tbody>\n",
       "    <tr>\n",
       "      <th>2</th>\n",
       "      <td>manhattan</td>\n",
       "      <td>313266</td>\n",
       "      <td>1638281</td>\n",
       "      <td>19121.628097</td>\n",
       "    </tr>\n",
       "    <tr>\n",
       "      <th>0</th>\n",
       "      <td>brooklyn</td>\n",
       "      <td>441026</td>\n",
       "      <td>2648452</td>\n",
       "      <td>16652.217975</td>\n",
       "    </tr>\n",
       "    <tr>\n",
       "      <th>1</th>\n",
       "      <td>queens</td>\n",
       "      <td>372457</td>\n",
       "      <td>2330295</td>\n",
       "      <td>15983.255339</td>\n",
       "    </tr>\n",
       "    <tr>\n",
       "      <th>3</th>\n",
       "      <td>bronx</td>\n",
       "      <td>205345</td>\n",
       "      <td>1446788</td>\n",
       "      <td>14193.164444</td>\n",
       "    </tr>\n",
       "    <tr>\n",
       "      <th>4</th>\n",
       "      <td>staten island</td>\n",
       "      <td>58297</td>\n",
       "      <td>487155</td>\n",
       "      <td>11966.827806</td>\n",
       "    </tr>\n",
       "  </tbody>\n",
       "</table>\n",
       "</div>"
      ],
      "text/plain": [
       "         borough  crash_count      pop  maxcrash_population\n",
       "2      manhattan       313266  1638281         19121.628097\n",
       "0       brooklyn       441026  2648452         16652.217975\n",
       "1         queens       372457  2330295         15983.255339\n",
       "3          bronx       205345  1446788         14193.164444\n",
       "4  staten island        58297   487155         11966.827806"
      ]
     },
     "execution_count": 24,
     "metadata": {},
     "output_type": "execute_result"
    }
   ],
   "source": [
    "mydf['maxcrash_population'] = (mydf['crash_count']/mydf['pop'])*100000\n",
    "mydf.sort_values(by = 'maxcrash_population', ascending= False, inplace=True)\n",
    "mydf"
   ]
  },
  {
   "cell_type": "markdown",
   "id": "4b9ae4a0-249c-4318-be50-57efa7432de2",
   "metadata": {},
   "source": [
    "## Analyzing the leading cause of crashes"
   ]
  },
  {
   "cell_type": "code",
   "execution_count": 30,
   "id": "5f83ee06-136e-4a4e-b0bd-0134d641fa36",
   "metadata": {
    "tags": []
   },
   "outputs": [
    {
     "data": {
      "text/plain": [
       "CONTRIBUTING FACTOR VEHICLE 1\n",
       "Unspecified                       692736\n",
       "Driver Inattention/Distraction    401262\n",
       "Failure to Yield Right-of-Way     119166\n",
       "Following Too Closely             107467\n",
       "Backing Unsafely                   75042\n",
       "                                   ...  \n",
       "Cell Phone (hand-held)                79\n",
       "Windshield Inadequate                 77\n",
       "Texting                               50\n",
       "Listening/Using Headphones            24\n",
       "1                                     10\n",
       "Name: count, Length: 61, dtype: int64"
      ]
     },
     "execution_count": 30,
     "metadata": {},
     "output_type": "execute_result"
    }
   ],
   "source": [
    "df['CONTRIBUTING FACTOR VEHICLE 1'].value_counts() \n"
   ]
  },
  {
   "cell_type": "code",
   "execution_count": 31,
   "id": "63a6cfd5-3b11-40cd-b1b5-4969dcc2f92f",
   "metadata": {
    "tags": []
   },
   "outputs": [],
   "source": [
    "df = df[df['CONTRIBUTING FACTOR VEHICLE 1'] != 'Unspecified']"
   ]
  },
  {
   "cell_type": "code",
   "execution_count": 33,
   "id": "85f37dc4-a0e6-4cfe-a267-10156d5e97d2",
   "metadata": {
    "tags": []
   },
   "outputs": [
    {
     "data": {
      "text/plain": [
       "CONTRIBUTING FACTOR VEHICLE 1\n",
       "Driver Inattention/Distraction                           401262\n",
       "Failure to Yield Right-of-Way                            119166\n",
       "Following Too Closely                                    107467\n",
       "Backing Unsafely                                          75042\n",
       "Other Vehicular                                           62688\n",
       "Passing or Lane Usage Improper                            55445\n",
       "Turning Improperly                                        49908\n",
       "Passing Too Closely                                       49848\n",
       "Fatigued/Drowsy                                           47343\n",
       "Unsafe Lane Changing                                      39711\n",
       "Traffic Control Disregarded                               35210\n",
       "Driver Inexperience                                       31274\n",
       "Unsafe Speed                                              26915\n",
       "Alcohol Involvement                                       21656\n",
       "Lost Consciousness                                        20374\n",
       "Reaction to Uninvolved Vehicle                            19502\n",
       "Pavement Slippery                                         19268\n",
       "Prescription Medication                                   15407\n",
       "View Obstructed/Limited                                   13215\n",
       "Outside Car Distraction                                   12657\n",
       "Oversized Vehicle                                         12352\n",
       "Physical Disability                                        9342\n",
       "Aggressive Driving/Road Rage                               9263\n",
       "Pedestrian/Bicyclist/Other Pedestrian Error/Confusion      9116\n",
       "Passenger Distraction                                      7925\n",
       "Brakes Defective                                           6741\n",
       "Fell Asleep                                                5459\n",
       "Obstruction/Debris                                         4143\n",
       "Glare                                                      4022\n",
       "Failure to Keep Right                                      3239\n",
       "Steering Failure                                           2791\n",
       "Tire Failure/Inadequate                                    2453\n",
       "Pavement Defective                                         2401\n",
       "Other Electronic Device                                    2331\n",
       "Illness                                                    2158\n",
       "Illnes                                                     1584\n",
       "Animals Action                                             1518\n",
       "Reaction to Other Uninvolved Vehicle                       1337\n",
       "Driverless/Runaway Vehicle                                 1209\n",
       "Accelerator Defective                                      1060\n",
       "Lane Marking Improper/Inadequate                            970\n",
       "Traffic Control Device Improper/Non-Working                 847\n",
       "Drugs (illegal)                                             838\n",
       "Cell Phone (hand-Held)                                      503\n",
       "Drugs (Illegal)                                             419\n",
       "Cell Phone (hands-free)                                     269\n",
       "Tow Hitch Defective                                         213\n",
       "Other Lighting Defects                                      184\n",
       "Tinted Windows                                              162\n",
       "Using On Board Navigation Device                            148\n",
       "Vehicle Vandalism                                           131\n",
       "Headlights Defective                                        130\n",
       "Eating or Drinking                                          116\n",
       "80                                                          101\n",
       "Shoulders Defective/Improper                                 88\n",
       "Cell Phone (hand-held)                                       79\n",
       "Windshield Inadequate                                        77\n",
       "Texting                                                      50\n",
       "Listening/Using Headphones                                   24\n",
       "1                                                            10\n",
       "Name: count, dtype: int64"
      ]
     },
     "execution_count": 33,
     "metadata": {},
     "output_type": "execute_result"
    }
   ],
   "source": [
    "contributingfactors_count = df['CONTRIBUTING FACTOR VEHICLE 1'].value_counts() \n",
    "contributingfactors_count"
   ]
  },
  {
   "cell_type": "code",
   "execution_count": 34,
   "id": "ea31b4ed-bf1d-4ba8-bd3d-48da72368e6c",
   "metadata": {
    "tags": []
   },
   "outputs": [
    {
     "data": {
      "text/plain": [
       "401262"
      ]
     },
     "execution_count": 34,
     "metadata": {},
     "output_type": "execute_result"
    }
   ],
   "source": [
    "leading_cause = contributingfactors_count.idxmax()\n",
    "leadingcause_count = contributingfactors_count.max()\n",
    "\n",
    "leadingcause_count"
   ]
  },
  {
   "cell_type": "code",
   "execution_count": 40,
   "id": "af49ac12-0353-4c57-9e18-135508ed1e5f",
   "metadata": {
    "tags": []
   },
   "outputs": [
    {
     "data": {
      "text/plain": [
       "30.27229539746618"
      ]
     },
     "execution_count": 40,
     "metadata": {},
     "output_type": "execute_result"
    }
   ],
   "source": [
    "total_accidents = len(df)\n",
    "total_accidents\n",
    "\n",
    "proportion_of_accidents = (leadingcause_count / total_accidents) *100\n",
    "proportion_of_accidents"
   ]
  },
  {
   "cell_type": "markdown",
   "id": "837c455f-641a-4694-8ff8-a104e14c2392",
   "metadata": {},
   "source": [
    "## Top 3 causes of crashes"
   ]
  },
  {
   "cell_type": "markdown",
   "id": "da2ff514-6873-4fa2-9c5e-09f579ae66bd",
   "metadata": {
    "tags": []
   },
   "source": [
    "contributingfactors_count = df['CONTRIBUTING FACTOR VEHICLE 1'].value_counts() \n",
    "contributingfactors_count\n"
   ]
  },
  {
   "cell_type": "code",
   "execution_count": 44,
   "id": "7bbe24e3-82d9-421f-8591-620e01e678a7",
   "metadata": {
    "tags": []
   },
   "outputs": [
    {
     "data": {
      "text/plain": [
       "CONTRIBUTING FACTOR VEHICLE 1\n",
       "Driver Inattention/Distraction                           401262\n",
       "Failure to Yield Right-of-Way                            119166\n",
       "Following Too Closely                                    107467\n",
       "Backing Unsafely                                          75042\n",
       "Other Vehicular                                           62688\n",
       "Passing or Lane Usage Improper                            55445\n",
       "Turning Improperly                                        49908\n",
       "Passing Too Closely                                       49848\n",
       "Fatigued/Drowsy                                           47343\n",
       "Unsafe Lane Changing                                      39711\n",
       "Traffic Control Disregarded                               35210\n",
       "Driver Inexperience                                       31274\n",
       "Unsafe Speed                                              26915\n",
       "Alcohol Involvement                                       21656\n",
       "Lost Consciousness                                        20374\n",
       "Reaction to Uninvolved Vehicle                            19502\n",
       "Pavement Slippery                                         19268\n",
       "Prescription Medication                                   15407\n",
       "View Obstructed/Limited                                   13215\n",
       "Outside Car Distraction                                   12657\n",
       "Oversized Vehicle                                         12352\n",
       "Physical Disability                                        9342\n",
       "Aggressive Driving/Road Rage                               9263\n",
       "Pedestrian/Bicyclist/Other Pedestrian Error/Confusion      9116\n",
       "Passenger Distraction                                      7925\n",
       "Brakes Defective                                           6741\n",
       "Fell Asleep                                                5459\n",
       "Obstruction/Debris                                         4143\n",
       "Glare                                                      4022\n",
       "Failure to Keep Right                                      3239\n",
       "Steering Failure                                           2791\n",
       "Tire Failure/Inadequate                                    2453\n",
       "Pavement Defective                                         2401\n",
       "Other Electronic Device                                    2331\n",
       "Illness                                                    2158\n",
       "Illnes                                                     1584\n",
       "Animals Action                                             1518\n",
       "Reaction to Other Uninvolved Vehicle                       1337\n",
       "Driverless/Runaway Vehicle                                 1209\n",
       "Accelerator Defective                                      1060\n",
       "Lane Marking Improper/Inadequate                            970\n",
       "Traffic Control Device Improper/Non-Working                 847\n",
       "Drugs (illegal)                                             838\n",
       "Cell Phone (hand-Held)                                      503\n",
       "Drugs (Illegal)                                             419\n",
       "Cell Phone (hands-free)                                     269\n",
       "Tow Hitch Defective                                         213\n",
       "Other Lighting Defects                                      184\n",
       "Tinted Windows                                              162\n",
       "Using On Board Navigation Device                            148\n",
       "Vehicle Vandalism                                           131\n",
       "Headlights Defective                                        130\n",
       "Eating or Drinking                                          116\n",
       "80                                                          101\n",
       "Shoulders Defective/Improper                                 88\n",
       "Cell Phone (hand-held)                                       79\n",
       "Windshield Inadequate                                        77\n",
       "Texting                                                      50\n",
       "Listening/Using Headphones                                   24\n",
       "1                                                            10\n",
       "Name: count, dtype: int64"
      ]
     },
     "execution_count": 44,
     "metadata": {},
     "output_type": "execute_result"
    }
   ],
   "source": [
    "contributingfactors_count = df['CONTRIBUTING FACTOR VEHICLE 1'].value_counts() \n",
    "contributingfactors_count"
   ]
  },
  {
   "cell_type": "code",
   "execution_count": 46,
   "id": "67191986-db25-44a6-b6c4-2d915cd4558b",
   "metadata": {
    "tags": []
   },
   "outputs": [
    {
     "data": {
      "text/plain": [
       "CONTRIBUTING FACTOR VEHICLE 1\n",
       "Driver Inattention/Distraction    401262\n",
       "Failure to Yield Right-of-Way     119166\n",
       "Following Too Closely             107467\n",
       "Name: count, dtype: int64"
      ]
     },
     "execution_count": 46,
     "metadata": {},
     "output_type": "execute_result"
    }
   ],
   "source": [
    "top_causes = contributingfactors_count.iloc[:3]\n",
    "top_causes"
   ]
  },
  {
   "cell_type": "markdown",
   "id": "45db99a6-13cc-4434-9735-d55a9cbc9c3a",
   "metadata": {},
   "source": [
    "### Looking at the data the top 3 causes of crashes are as follows:\n",
    "$ 1. $Driver Inattention/Distraction                          \n",
    "$ 2. $Failure to Yield Right-of-Way                            \n",
    "$ 3. $Following Too Closely    "
   ]
  },
  {
   "cell_type": "code",
   "execution_count": 47,
   "id": "eaa752e0-7bee-4524-8555-c1a1ca470a1a",
   "metadata": {
    "tags": []
   },
   "outputs": [
    {
     "data": {
      "text/plain": [
       "47.37010461641528"
      ]
     },
     "execution_count": 47,
     "metadata": {},
     "output_type": "execute_result"
    }
   ],
   "source": [
    "proportion_top_causes = (top_causes.sum() / total_accidents) * 100\n",
    "proportion_top_causes"
   ]
  },
  {
   "cell_type": "markdown",
   "id": "b58c78e0-80de-40d2-bc65-5719b219b015",
   "metadata": {},
   "source": [
    "## Analyzing fatalities"
   ]
  },
  {
   "cell_type": "code",
   "execution_count": 48,
   "id": "49168d2b-ef32-42e6-9f2c-5fc0907403af",
   "metadata": {
    "tags": []
   },
   "outputs": [],
   "source": [
    "df['CRASH DATE_CRASH TIME'] = pd.to_datetime(df['CRASH DATE_CRASH TIME'])\n",
    "df = df[df['CRASH DATE_CRASH TIME'].dt.year >= 2012]"
   ]
  },
  {
   "cell_type": "code",
   "execution_count": 65,
   "id": "32f009aa-dc5d-4ff6-a8fa-45119c94df82",
   "metadata": {
    "tags": []
   },
   "outputs": [
    {
     "data": {
      "text/plain": [
       "787"
      ]
     },
     "execution_count": 65,
     "metadata": {},
     "output_type": "execute_result"
    }
   ],
   "source": [
    "fatalaccidents_count_pedestrians = df[df['NUMBER OF PEDESTRIANS KILLED'] >0].shape[0]\n",
    "fatalaccidents_count_pedestrians"
   ]
  },
  {
   "cell_type": "code",
   "execution_count": 67,
   "id": "d10a1ca6-d077-4d90-874d-ab89f5dec897",
   "metadata": {
    "tags": []
   },
   "outputs": [
    {
     "data": {
      "text/plain": [
       "163"
      ]
     },
     "execution_count": 67,
     "metadata": {},
     "output_type": "execute_result"
    }
   ],
   "source": [
    "fatalaccidents_count_cyclist = df[df['NUMBER OF CYCLIST KILLED'] >0].shape[0]\n",
    "fatalaccidents_count_cyclist"
   ]
  },
  {
   "cell_type": "code",
   "execution_count": 68,
   "id": "ca96e138-6b69-4a39-8c43-c7941e44f8b9",
   "metadata": {
    "tags": []
   },
   "outputs": [
    {
     "data": {
      "text/plain": [
       "898"
      ]
     },
     "execution_count": 68,
     "metadata": {},
     "output_type": "execute_result"
    }
   ],
   "source": [
    "fatalaccidents_count_motorist= df[df['NUMBER OF MOTORIST KILLED'] >0].shape[0]\n",
    "fatalaccidents_count_motorist"
   ]
  },
  {
   "cell_type": "code",
   "execution_count": 63,
   "id": "58195166-0a39-45b2-9701-9fe5f9168c4c",
   "metadata": {
    "tags": []
   },
   "outputs": [
    {
     "data": {
      "text/plain": [
       "1866"
      ]
     },
     "execution_count": 63,
     "metadata": {},
     "output_type": "execute_result"
    }
   ],
   "source": [
    "fatalaccidents_count = df[df['NUMBER OF PERSONS KILLED'] >0].shape[0]\n",
    "fatalaccidents_count"
   ]
  },
  {
   "cell_type": "markdown",
   "id": "944c8b72-c863-4e55-9307-869e708d4d5f",
   "metadata": {
    "tags": []
   },
   "source": [
    "## Likelihood of fatal accidents"
   ]
  },
  {
   "cell_type": "code",
   "execution_count": 79,
   "id": "a32acb51-029a-409c-95ff-6b22eecc5aaa",
   "metadata": {
    "tags": []
   },
   "outputs": [
    {
     "data": {
      "text/plain": [
       "0.12297162825752221"
      ]
     },
     "execution_count": 79,
     "metadata": {},
     "output_type": "execute_result"
    }
   ],
   "source": [
    "average_fatalities = (fatalaccidents_count / total_accidents) *1000\n",
    "average_fatalities"
   ]
  },
  {
   "cell_type": "markdown",
   "id": "28c41aa5-7d06-4350-976b-fead1f39f98d",
   "metadata": {
    "tags": []
   },
   "source": [
    "# Missing data"
   ]
  },
  {
   "cell_type": "code",
   "execution_count": 80,
   "id": "7e9ca2f7-3bb9-4f7f-b5dc-fd096e3f96d9",
   "metadata": {
    "tags": []
   },
   "outputs": [
    {
     "data": {
      "text/plain": [
       "1325509"
      ]
     },
     "execution_count": 80,
     "metadata": {},
     "output_type": "execute_result"
    }
   ],
   "source": [
    "total_accidents"
   ]
  },
  {
   "cell_type": "code",
   "execution_count": 82,
   "id": "708036b8-969d-45dd-9efa-5d20dcde5e60",
   "metadata": {
    "tags": []
   },
   "outputs": [
    {
     "data": {
      "text/plain": [
       "462855"
      ]
     },
     "execution_count": 82,
     "metadata": {},
     "output_type": "execute_result"
    }
   ],
   "source": [
    "accidents_without_borough = df['BOROUGH'].isna().sum()\n",
    "accidents_without_borough"
   ]
  },
  {
   "cell_type": "code",
   "execution_count": 85,
   "id": "1cf80680-303e-473d-b376-ec38f6197d2a",
   "metadata": {
    "tags": []
   },
   "outputs": [
    {
     "data": {
      "text/plain": [
       "34.919038648549346"
      ]
     },
     "execution_count": 85,
     "metadata": {},
     "output_type": "execute_result"
    }
   ],
   "source": [
    "proportion_without_borough = (accidents_without_borough / total_accidents)*100\n",
    "proportion_without_borough"
   ]
  },
  {
   "cell_type": "markdown",
   "id": "df6a6c9c-8b56-47e3-92de-9d849495261b",
   "metadata": {},
   "source": [
    "## Which combinations of vehicles have the most number of accidents"
   ]
  },
  {
   "cell_type": "code",
   "execution_count": 86,
   "id": "07a787a6-8674-41c8-a7f2-9e0a61a6cf79",
   "metadata": {
    "tags": []
   },
   "outputs": [
    {
     "data": {
      "text/html": [
       "<div>\n",
       "<style scoped>\n",
       "    .dataframe tbody tr th:only-of-type {\n",
       "        vertical-align: middle;\n",
       "    }\n",
       "\n",
       "    .dataframe tbody tr th {\n",
       "        vertical-align: top;\n",
       "    }\n",
       "\n",
       "    .dataframe thead th {\n",
       "        text-align: right;\n",
       "    }\n",
       "</style>\n",
       "<table border=\"1\" class=\"dataframe\">\n",
       "  <thead>\n",
       "    <tr style=\"text-align: right;\">\n",
       "      <th></th>\n",
       "      <th>VEHICLE TYPE CODE 1</th>\n",
       "      <th>VEHICLE TYPE CODE 2</th>\n",
       "      <th>COUNT</th>\n",
       "    </tr>\n",
       "  </thead>\n",
       "  <tbody>\n",
       "    <tr>\n",
       "      <th>3367</th>\n",
       "      <td>Sedan</td>\n",
       "      <td>Sedan</td>\n",
       "      <td>160283</td>\n",
       "    </tr>\n",
       "  </tbody>\n",
       "</table>\n",
       "</div>"
      ],
      "text/plain": [
       "     VEHICLE TYPE CODE 1 VEHICLE TYPE CODE 2   COUNT\n",
       "3367               Sedan               Sedan  160283"
      ]
     },
     "execution_count": 86,
     "metadata": {},
     "output_type": "execute_result"
    }
   ],
   "source": [
    "df = df.dropna(subset=['VEHICLE TYPE CODE 1', 'VEHICLE TYPE CODE 2'])\n",
    "vehicle_combinations = df.groupby(['VEHICLE TYPE CODE 1', 'VEHICLE TYPE CODE 2']).size().reset_index(name='COUNT')\n",
    "most_common_combination = vehicle_combinations[vehicle_combinations['COUNT'] == vehicle_combinations['COUNT'].max()]\n",
    "most_common_combination"
   ]
  },
  {
   "cell_type": "code",
   "execution_count": null,
   "id": "4c8917ab-eb86-4a0d-99ac-2b1b41679899",
   "metadata": {},
   "outputs": [],
   "source": []
  }
 ],
 "metadata": {
  "kernelspec": {
   "display_name": "Python [conda env:mggy8413]",
   "language": "python",
   "name": "conda-env-mggy8413-py"
  },
  "language_info": {
   "codemirror_mode": {
    "name": "ipython",
    "version": 3
   },
   "file_extension": ".py",
   "mimetype": "text/x-python",
   "name": "python",
   "nbconvert_exporter": "python",
   "pygments_lexer": "ipython3",
   "version": "3.10.12"
  }
 },
 "nbformat": 4,
 "nbformat_minor": 5
}
